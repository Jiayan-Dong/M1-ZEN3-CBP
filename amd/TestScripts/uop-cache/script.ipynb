{
 "cells": [
  {
   "cell_type": "code",
   "execution_count": 46,
   "metadata": {},
   "outputs": [],
   "source": [
    "import pandas as pd \n",
    "import matplotlib.pyplot as plt\n",
    "import seaborn as sns"
   ]
  },
  {
   "cell_type": "code",
   "execution_count": 47,
   "metadata": {},
   "outputs": [
    {
     "name": "stdout",
     "output_type": "stream",
     "text": [
      "Experiment date and time: Wed Apr 26 01:35:52 PM PDT 2023\n",
      "Number of branches: \n",
      "262665651\n",
      "Number of mispredictions: \n",
      "112379880\n"
     ]
    }
   ],
   "source": [
    "%%sh\n",
    "./run.sh"
   ]
  },
  {
   "cell_type": "code",
   "execution_count": 48,
   "metadata": {},
   "outputs": [],
   "source": [
    "def clean_df(df):\n",
    "    df = df.fillna(-1)\n",
    "    df = df.replace(r'[^0-9]+',-1)\n",
    "    df = df.replace('',-1)\n",
    "    df = df.replace(' ',-1)\n",
    "    df = df.replace('\\n',-1)\n",
    "    return df"
   ]
  },
  {
   "cell_type": "code",
   "execution_count": 49,
   "metadata": {},
   "outputs": [],
   "source": [
    "data = pd.read_csv(\"results.csv\", delim_whitespace=True) \n",
    "data = clean_df(data)\n",
    "\n",
    "data[\"Clock\"] = pd.to_numeric(data[\"Clock\"],errors='coerce')\n",
    "data[\"Instns\"] = pd.to_numeric(data[\"Instns\"],errors='coerce')\n",
    "data[\"DEC-uops\"] = pd.to_numeric(data[\"DEC-uops\"],errors='coerce')\n",
    "data[\"DSB-uops\"] = pd.to_numeric(data[\"DSB-uops\"],errors='coerce')\n",
    "data[\"LSD-uops\"] = pd.to_numeric(data[\"LSD-uops\"],errors='coerce')\n",
    "\n",
    "data[\"Instns\"] = (data[\"Instns\"] - 1000) // 1000\n",
    "data[\"DEC-uops\"] = data[\"DEC-uops\"] / 1000\n",
    "data[\"DSB-uops\"] = data[\"DSB-uops\"] / 1000\n",
    "data[\"LSD-uops\"] = data[\"LSD-uops\"] / 1000"
   ]
  },
  {
   "cell_type": "code",
   "execution_count": 50,
   "metadata": {},
   "outputs": [
    {
     "data": {
      "text/html": [
       "<div>\n",
       "<style scoped>\n",
       "    .dataframe tbody tr th:only-of-type {\n",
       "        vertical-align: middle;\n",
       "    }\n",
       "\n",
       "    .dataframe tbody tr th {\n",
       "        vertical-align: top;\n",
       "    }\n",
       "\n",
       "    .dataframe thead th {\n",
       "        text-align: right;\n",
       "    }\n",
       "</style>\n",
       "<table border=\"1\" class=\"dataframe\">\n",
       "  <thead>\n",
       "    <tr style=\"text-align: right;\">\n",
       "      <th></th>\n",
       "      <th>Clock</th>\n",
       "      <th>Instns</th>\n",
       "      <th>DEC-uops</th>\n",
       "      <th>DSB-uops</th>\n",
       "      <th>LSD-uops</th>\n",
       "    </tr>\n",
       "  </thead>\n",
       "  <tbody>\n",
       "    <tr>\n",
       "      <th>0</th>\n",
       "      <td>611</td>\n",
       "      <td>1</td>\n",
       "      <td>0.029</td>\n",
       "      <td>0.044</td>\n",
       "      <td>1.053</td>\n",
       "    </tr>\n",
       "    <tr>\n",
       "      <th>1</th>\n",
       "      <td>531</td>\n",
       "      <td>1</td>\n",
       "      <td>0.011</td>\n",
       "      <td>0.055</td>\n",
       "      <td>1.056</td>\n",
       "    </tr>\n",
       "    <tr>\n",
       "      <th>2</th>\n",
       "      <td>534</td>\n",
       "      <td>1</td>\n",
       "      <td>0.011</td>\n",
       "      <td>0.058</td>\n",
       "      <td>1.053</td>\n",
       "    </tr>\n",
       "    <tr>\n",
       "      <th>3</th>\n",
       "      <td>532</td>\n",
       "      <td>1</td>\n",
       "      <td>0.011</td>\n",
       "      <td>0.058</td>\n",
       "      <td>1.053</td>\n",
       "    </tr>\n",
       "    <tr>\n",
       "      <th>4</th>\n",
       "      <td>535</td>\n",
       "      <td>1</td>\n",
       "      <td>0.011</td>\n",
       "      <td>0.058</td>\n",
       "      <td>1.053</td>\n",
       "    </tr>\n",
       "    <tr>\n",
       "      <th>...</th>\n",
       "      <td>...</td>\n",
       "      <td>...</td>\n",
       "      <td>...</td>\n",
       "      <td>...</td>\n",
       "      <td>...</td>\n",
       "    </tr>\n",
       "    <tr>\n",
       "      <th>5045</th>\n",
       "      <td>8768</td>\n",
       "      <td>101</td>\n",
       "      <td>69.078</td>\n",
       "      <td>32.000</td>\n",
       "      <td>0.000</td>\n",
       "    </tr>\n",
       "    <tr>\n",
       "      <th>5046</th>\n",
       "      <td>8774</td>\n",
       "      <td>101</td>\n",
       "      <td>69.078</td>\n",
       "      <td>32.000</td>\n",
       "      <td>0.000</td>\n",
       "    </tr>\n",
       "    <tr>\n",
       "      <th>5047</th>\n",
       "      <td>8789</td>\n",
       "      <td>101</td>\n",
       "      <td>69.078</td>\n",
       "      <td>32.000</td>\n",
       "      <td>0.000</td>\n",
       "    </tr>\n",
       "    <tr>\n",
       "      <th>5048</th>\n",
       "      <td>8798</td>\n",
       "      <td>101</td>\n",
       "      <td>69.078</td>\n",
       "      <td>32.000</td>\n",
       "      <td>0.000</td>\n",
       "    </tr>\n",
       "    <tr>\n",
       "      <th>5049</th>\n",
       "      <td>8802</td>\n",
       "      <td>101</td>\n",
       "      <td>69.078</td>\n",
       "      <td>32.000</td>\n",
       "      <td>0.000</td>\n",
       "    </tr>\n",
       "  </tbody>\n",
       "</table>\n",
       "<p>5050 rows × 5 columns</p>\n",
       "</div>"
      ],
      "text/plain": [
       "      Clock  Instns  DEC-uops  DSB-uops  LSD-uops\n",
       "0       611       1     0.029     0.044     1.053\n",
       "1       531       1     0.011     0.055     1.056\n",
       "2       534       1     0.011     0.058     1.053\n",
       "3       532       1     0.011     0.058     1.053\n",
       "4       535       1     0.011     0.058     1.053\n",
       "...     ...     ...       ...       ...       ...\n",
       "5045   8768     101    69.078    32.000     0.000\n",
       "5046   8774     101    69.078    32.000     0.000\n",
       "5047   8789     101    69.078    32.000     0.000\n",
       "5048   8798     101    69.078    32.000     0.000\n",
       "5049   8802     101    69.078    32.000     0.000\n",
       "\n",
       "[5050 rows x 5 columns]"
      ]
     },
     "execution_count": 50,
     "metadata": {},
     "output_type": "execute_result"
    }
   ],
   "source": [
    "data"
   ]
  },
  {
   "cell_type": "code",
   "execution_count": 51,
   "metadata": {},
   "outputs": [
    {
     "data": {
      "image/png": "[encoded data removed]",
      "text/plain": [
       "<Figure size 2000x300 with 1 Axes>"
      ]
     },
     "metadata": {},
     "output_type": "display_data"
    }
   ],
   "source": [
    "\n",
    "def set_style():\n",
    "    plt.rcParams[\"font.family\"] = \"serif\"\n",
    "    plt.rcParams['pdf.fonttype'] = 42\n",
    "    plt.rcParams['ps.fonttype'] = 42\n",
    "    sns.set(rc={'figure.figsize':(20,3),\"font.size\":10, \"font.family\": \"serif\", \n",
    "                \"axes.titlesize\":10,\"axes.labelsize\": 10, \"ytick.labelsize\":10, \n",
    "                 \"xtick.labelsize\":10 , 'legend.fontsize':10, 'legend.title_fontsize': 10}, style=\"white\")\n",
    "\n",
    "set_style()\n",
    "\n",
    "p = sns.lineplot(data=data, x=\"Instns\", y=\"LSD-uops\", marker=\"o\", color=sns.color_palette(\"Set1\")[2], linewidth=2.5, markersize = 0)\n",
    "p.grid()\n",
    "# p.set_xscale('log', base=2)\n",
    "# p.set(xlim=(0,9))\n",
    "# p.set(ylim=(0,3))\n",
    "\n",
    "# Saving the Seaborn Figure:\n",
    "# plt.savefig('res.pdf', bbox_inches='tight')"
   ]
  },
  {
   "cell_type": "code",
   "execution_count": 52,
   "metadata": {},
   "outputs": [
    {
     "ename": "KeyError",
     "evalue": "'BrRetired'",
     "output_type": "error",
     "traceback": [
      "\u001b[0;31m---------------------------------------------------------------------------\u001b[0m",
      "\u001b[0;31mKeyError\u001b[0m                                  Traceback (most recent call last)",
      "Cell \u001b[0;32mIn[52], line 5\u001b[0m\n\u001b[1;32m      2\u001b[0m cols \u001b[39m=\u001b[39m [\u001b[39m\"\u001b[39m\u001b[39mLSD-uops\u001b[39m\u001b[39m\"\u001b[39m, \u001b[39m\"\u001b[39m\u001b[39mDSB-uops\u001b[39m\u001b[39m\"\u001b[39m, \u001b[39m\"\u001b[39m\u001b[39mDEC-uops\u001b[39m\u001b[39m\"\u001b[39m]\n\u001b[1;32m      4\u001b[0m \u001b[39m# Group the data by \"BrRetired\" and calculate the mean for each group\u001b[39;00m\n\u001b[0;32m----> 5\u001b[0m grouped \u001b[39m=\u001b[39m data\u001b[39m.\u001b[39;49mgroupby(\u001b[39m\"\u001b[39;49m\u001b[39mBrRetired\u001b[39;49m\u001b[39m\"\u001b[39;49m)[cols]\u001b[39m.\u001b[39mmean()\n\u001b[1;32m      7\u001b[0m \u001b[39m# Calculate the total sum for each row\u001b[39;00m\n\u001b[1;32m      8\u001b[0m totals \u001b[39m=\u001b[39m grouped\u001b[39m.\u001b[39msum(axis\u001b[39m=\u001b[39m\u001b[39m1\u001b[39m)\n",
      "File \u001b[0;32m~/.local/lib/python3.10/site-packages/pandas/core/frame.py:8402\u001b[0m, in \u001b[0;36mDataFrame.groupby\u001b[0;34m(self, by, axis, level, as_index, sort, group_keys, squeeze, observed, dropna)\u001b[0m\n\u001b[1;32m   8399\u001b[0m     \u001b[39mraise\u001b[39;00m \u001b[39mTypeError\u001b[39;00m(\u001b[39m\"\u001b[39m\u001b[39mYou have to supply one of \u001b[39m\u001b[39m'\u001b[39m\u001b[39mby\u001b[39m\u001b[39m'\u001b[39m\u001b[39m and \u001b[39m\u001b[39m'\u001b[39m\u001b[39mlevel\u001b[39m\u001b[39m'\u001b[39m\u001b[39m\"\u001b[39m)\n\u001b[1;32m   8400\u001b[0m axis \u001b[39m=\u001b[39m \u001b[39mself\u001b[39m\u001b[39m.\u001b[39m_get_axis_number(axis)\n\u001b[0;32m-> 8402\u001b[0m \u001b[39mreturn\u001b[39;00m DataFrameGroupBy(\n\u001b[1;32m   8403\u001b[0m     obj\u001b[39m=\u001b[39;49m\u001b[39mself\u001b[39;49m,\n\u001b[1;32m   8404\u001b[0m     keys\u001b[39m=\u001b[39;49mby,\n\u001b[1;32m   8405\u001b[0m     axis\u001b[39m=\u001b[39;49maxis,\n\u001b[1;32m   8406\u001b[0m     level\u001b[39m=\u001b[39;49mlevel,\n\u001b[1;32m   8407\u001b[0m     as_index\u001b[39m=\u001b[39;49mas_index,\n\u001b[1;32m   8408\u001b[0m     sort\u001b[39m=\u001b[39;49msort,\n\u001b[1;32m   8409\u001b[0m     group_keys\u001b[39m=\u001b[39;49mgroup_keys,\n\u001b[1;32m   8410\u001b[0m     squeeze\u001b[39m=\u001b[39;49msqueeze,\n\u001b[1;32m   8411\u001b[0m     observed\u001b[39m=\u001b[39;49mobserved,\n\u001b[1;32m   8412\u001b[0m     dropna\u001b[39m=\u001b[39;49mdropna,\n\u001b[1;32m   8413\u001b[0m )\n",
      "File \u001b[0;32m~/.local/lib/python3.10/site-packages/pandas/core/groupby/groupby.py:965\u001b[0m, in \u001b[0;36mGroupBy.__init__\u001b[0;34m(self, obj, keys, axis, level, grouper, exclusions, selection, as_index, sort, group_keys, squeeze, observed, mutated, dropna)\u001b[0m\n\u001b[1;32m    962\u001b[0m \u001b[39mif\u001b[39;00m grouper \u001b[39mis\u001b[39;00m \u001b[39mNone\u001b[39;00m:\n\u001b[1;32m    963\u001b[0m     \u001b[39mfrom\u001b[39;00m \u001b[39mpandas\u001b[39;00m\u001b[39m.\u001b[39;00m\u001b[39mcore\u001b[39;00m\u001b[39m.\u001b[39;00m\u001b[39mgroupby\u001b[39;00m\u001b[39m.\u001b[39;00m\u001b[39mgrouper\u001b[39;00m \u001b[39mimport\u001b[39;00m get_grouper\n\u001b[0;32m--> 965\u001b[0m     grouper, exclusions, obj \u001b[39m=\u001b[39m get_grouper(\n\u001b[1;32m    966\u001b[0m         obj,\n\u001b[1;32m    967\u001b[0m         keys,\n\u001b[1;32m    968\u001b[0m         axis\u001b[39m=\u001b[39;49maxis,\n\u001b[1;32m    969\u001b[0m         level\u001b[39m=\u001b[39;49mlevel,\n\u001b[1;32m    970\u001b[0m         sort\u001b[39m=\u001b[39;49msort,\n\u001b[1;32m    971\u001b[0m         observed\u001b[39m=\u001b[39;49mobserved,\n\u001b[1;32m    972\u001b[0m         mutated\u001b[39m=\u001b[39;49m\u001b[39mself\u001b[39;49m\u001b[39m.\u001b[39;49mmutated,\n\u001b[1;32m    973\u001b[0m         dropna\u001b[39m=\u001b[39;49m\u001b[39mself\u001b[39;49m\u001b[39m.\u001b[39;49mdropna,\n\u001b[1;32m    974\u001b[0m     )\n\u001b[1;32m    976\u001b[0m \u001b[39mself\u001b[39m\u001b[39m.\u001b[39mobj \u001b[39m=\u001b[39m obj\n\u001b[1;32m    977\u001b[0m \u001b[39mself\u001b[39m\u001b[39m.\u001b[39maxis \u001b[39m=\u001b[39m obj\u001b[39m.\u001b[39m_get_axis_number(axis)\n",
      "File \u001b[0;32m~/.local/lib/python3.10/site-packages/pandas/core/groupby/grouper.py:888\u001b[0m, in \u001b[0;36mget_grouper\u001b[0;34m(obj, key, axis, level, sort, observed, mutated, validate, dropna)\u001b[0m\n\u001b[1;32m    886\u001b[0m         in_axis, level, gpr \u001b[39m=\u001b[39m \u001b[39mFalse\u001b[39;00m, gpr, \u001b[39mNone\u001b[39;00m\n\u001b[1;32m    887\u001b[0m     \u001b[39melse\u001b[39;00m:\n\u001b[0;32m--> 888\u001b[0m         \u001b[39mraise\u001b[39;00m \u001b[39mKeyError\u001b[39;00m(gpr)\n\u001b[1;32m    889\u001b[0m \u001b[39melif\u001b[39;00m \u001b[39misinstance\u001b[39m(gpr, Grouper) \u001b[39mand\u001b[39;00m gpr\u001b[39m.\u001b[39mkey \u001b[39mis\u001b[39;00m \u001b[39mnot\u001b[39;00m \u001b[39mNone\u001b[39;00m:\n\u001b[1;32m    890\u001b[0m     \u001b[39m# Add key to exclusions\u001b[39;00m\n\u001b[1;32m    891\u001b[0m     exclusions\u001b[39m.\u001b[39madd(gpr\u001b[39m.\u001b[39mkey)\n",
      "\u001b[0;31mKeyError\u001b[0m: 'BrRetired'"
     ]
    }
   ],
   "source": [
    "# Select the columns to use for the bar plot\n",
    "cols = [\"LSD-uops\", \"DSB-uops\", \"DEC-uops\"]\n",
    "\n",
    "# Group the data by \"BrRetired\" and calculate the mean for each group\n",
    "grouped = data.groupby(\"BrRetired\")[cols].mean()\n",
    "\n",
    "# Calculate the total sum for each row\n",
    "totals = grouped.sum(axis=1)\n",
    "\n",
    "# Calculate the percentage of each data point over the total sum for each row\n",
    "percentages = grouped.div(totals, axis=0)\n",
    "\n",
    "# Reset the index to make \"BrRetired\" a column again\n",
    "percentages = percentages.reset_index()\n",
    "\n",
    "# Melt the dataframe to create a \"long\" format for Seaborn\n",
    "melted = pd.melt(percentages, id_vars=\"BrRetired\", var_name=\"Data\", value_name=\"Percentage\")\n",
    "\n",
    "# Pivot the melted dataframe to create a \"wide\" format for Seaborn\n",
    "pivot = melted.pivot(index=\"BrRetired\", columns=\"Data\", values=\"Percentage\")\n",
    "\n",
    "# Create the bar plot using Seaborn\n",
    "sns.set(rc={'figure.figsize':(15,5)})\n",
    "sns.set_style(\"whitegrid\")\n",
    "sns.set_palette(\"colorblind\")\n",
    "sns.set_context(\"talk\")\n",
    "ax = pivot.plot(kind=\"bar\", stacked=True, width=2)\n",
    "\n",
    "# Set the axis labels and legend\n",
    "ax.legend(title=\"Data\", loc=\"center right\",bbox_to_anchor=(1.25, 0.5), frameon=False)\n",
    "ax.set_xlabel(\"BrRetired\")\n",
    "ax.set_ylabel(\"Percentage\")\n",
    "# ax.set(xlim=(0,512))\n",
    "\n",
    "# Remove the x-tick labels\n",
    "ax.set_xticklabels([])\n",
    "    \n",
    "# Show the plot\n",
    "plt.show()"
   ]
  },
  {
   "cell_type": "code",
   "execution_count": null,
   "metadata": {},
   "outputs": [
    {
     "data": {
      "image/png": "[encoded data removed]",
      "text/plain": [
       "<Figure size 1500x300 with 1 Axes>"
      ]
     },
     "metadata": {},
     "output_type": "display_data"
    }
   ],
   "source": [
    "def set_style():\n",
    "    plt.rcParams[\"font.family\"] = \"serif\"\n",
    "    plt.rcParams['pdf.fonttype'] = 42\n",
    "    plt.rcParams['ps.fonttype'] = 42\n",
    "    sns.set(rc={'figure.figsize':(15,3),\"font.size\":10, \"font.family\": \"serif\", \n",
    "                \"axes.titlesize\":10,\"axes.labelsize\": 10, \"ytick.labelsize\":10, \n",
    "                 \"xtick.labelsize\":10 , 'legend.fontsize':10, 'legend.title_fontsize': 10}, style=\"white\")\n",
    "\n",
    "set_style()\n",
    "\n",
    "g = sns.barplot(data=data, x=\"BrRetired\", y=\"Dec-uops\")"
   ]
  },
  {
   "cell_type": "code",
   "execution_count": null,
   "metadata": {},
   "outputs": [],
   "source": []
  }
 ],
 "metadata": {
  "kernelspec": {
   "display_name": "Python 3 (ipykernel)",
   "language": "python",
   "name": "python3"
  },
  "language_info": {
   "codemirror_mode": {
    "name": "ipython",
    "version": 3
   },
   "file_extension": ".py",
   "mimetype": "text/x-python",
   "name": "python",
   "nbconvert_exporter": "python",
   "pygments_lexer": "ipython3",
   "version": "3.10.6"
  },
  "orig_nbformat": 4
 },
 "nbformat": 4,
 "nbformat_minor": 2
}
