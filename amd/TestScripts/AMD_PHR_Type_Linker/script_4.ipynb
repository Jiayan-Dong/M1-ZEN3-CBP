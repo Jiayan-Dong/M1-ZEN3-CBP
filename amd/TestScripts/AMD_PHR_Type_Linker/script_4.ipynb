{
 "cells": [
  {
   "cell_type": "code",
   "execution_count": 1,
   "metadata": {},
   "outputs": [],
   "source": [
    "import pandas as pd \n",
    "import os"
   ]
  },
  {
   "cell_type": "code",
   "execution_count": 2,
   "metadata": {},
   "outputs": [],
   "source": [
    "repeat0 = 20\n",
    "repeat1 = 4000"
   ]
  },
  {
   "cell_type": "code",
   "execution_count": 3,
   "metadata": {},
   "outputs": [
    {
     "name": "stdout",
     "output_type": "stream",
     "text": [
      "Experiment date and time: Thu 25 Jan 2024 12:58:21 PM EST\n"
     ]
    },
    {
     "name": "stderr",
     "output_type": "stream",
     "text": [
      "./run.sh: line 37: ./x: cannot execute binary file: Exec format error\n",
      "./run.sh: line 37: ./x: cannot execute binary file: Exec format error\n",
      "./run.sh: line 37: ./x: cannot execute binary file: Exec format error\n",
      "./run.sh: line 37: ./x: cannot execute binary file: Exec format error\n",
      "./run.sh: line 37: ./x: cannot execute binary file: Exec format error\n",
      "./run.sh: line 37: ./x: cannot execute binary file: Exec format error\n",
      "./run.sh: line 37: ./x: cannot execute binary file: Exec format error\n",
      "./run.sh: line 37: ./x: cannot execute binary file: Exec format error\n",
      "./run.sh: line 37: ./x: cannot execute binary file: Exec format error\n",
      "./run.sh: line 37: ./x: cannot execute binary file: Exec format error\n",
      "./run.sh: line 37: ./x: cannot execute binary file: Exec format error\n",
      "./run.sh: line 37: ./x: cannot execute binary file: Exec format error\n",
      "./run.sh: line 37: ./x: cannot execute binary file: Exec format error\n",
      "./run.sh: line 37: ./x: cannot execute binary file: Exec format error\n",
      "./run.sh: line 37: ./x: cannot execute binary file: Exec format error\n",
      "./run.sh: line 37: ./x: cannot execute binary file: Exec format error\n",
      "./run.sh: line 37: ./x: cannot execute binary file: Exec format error\n",
      "./run.sh: line 37: ./x: cannot execute binary file: Exec format error\n",
      "./run.sh: line 37: ./x: cannot execute binary file: Exec format error\n",
      "./run.sh: line 37: ./x: cannot execute binary file: Exec format error\n",
      "./run.sh: line 37: ./x: cannot execute binary file: Exec format error\n",
      "./run.sh: line 37: ./x: cannot execute binary file: Exec format error\n",
      "./run.sh: line 37: ./x: cannot execute binary file: Exec format error\n",
      "./run.sh: line 37: ./x: cannot execute binary file: Exec format error\n",
      "./run.sh: line 37: ./x: cannot execute binary file: Exec format error\n",
      "./run.sh: line 37: ./x: cannot execute binary file: Exec format error\n",
      "./run.sh: line 37: ./x: cannot execute binary file: Exec format error\n",
      "./run.sh: line 37: ./x: cannot execute binary file: Exec format error\n",
      "./run.sh: line 37: ./x: cannot execute binary file: Exec format error\n",
      "./run.sh: line 37: ./x: cannot execute binary file: Exec format error\n",
      "./run.sh: line 37: ./x: cannot execute binary file: Exec format error\n",
      "./run.sh: line 37: ./x: cannot execute binary file: Exec format error\n",
      "./run.sh: line 37: ./x: cannot execute binary file: Exec format error\n",
      "./run.sh: line 37: ./x: cannot execute binary file: Exec format error\n",
      "./run.sh: line 37: ./x: cannot execute binary file: Exec format error\n",
      "./run.sh: line 37: ./x: cannot execute binary file: Exec format error\n"
     ]
    }
   ],
   "source": [
    "# rdx 5\n",
    "final_dfs = []\n",
    "for i in range(2,3):\n",
    "    final_df = pd.DataFrame()\n",
    "    for j in range(2,13):\n",
    "        os.system(\"./run.sh {} {}\".format(i, j))\n",
    "\n",
    "        data = pd.read_csv(\"results.csv\", comment='#', delim_whitespace=True)\n",
    "        data[\"Clock\"] = pd.to_numeric(data[\"Clock\"],errors='coerce')\n",
    "        data[\"BrRetired\"] = pd.to_numeric(data[\"BrRetired\"],errors='coerce')\n",
    "        data[\"BrMispred\"] = pd.to_numeric(data[\"BrMispred\"],errors='coerce')\n",
    "        data[\"Clock\"] = (data[\"Clock\"]) / repeat1\n",
    "        data[\"BrRetired\"] = data[\"BrRetired\"] / repeat1\n",
    "        data[\"BrMispred\"] = data[\"BrMispred\"] / repeat1\n",
    "        final_df[j] = data.groupby(data.index // repeat0).mean()[\"BrMispred\"]\n",
    "    final_dfs.append(final_df)"
   ]
  },
  {
   "cell_type": "code",
   "execution_count": 1,
   "metadata": {},
   "outputs": [
    {
     "ename": "NameError",
     "evalue": "name 'final_dfs' is not defined",
     "output_type": "error",
     "traceback": [
      "\u001b[0;31m---------------------------------------------------------------------------\u001b[0m",
      "\u001b[0;31mNameError\u001b[0m                                 Traceback (most recent call last)",
      "Cell \u001b[0;32mIn[1], line 1\u001b[0m\n\u001b[0;32m----> 1\u001b[0m \u001b[38;5;28;01mfor\u001b[39;00m i, df \u001b[38;5;129;01min\u001b[39;00m \u001b[38;5;28menumerate\u001b[39m(\u001b[43mfinal_dfs\u001b[49m, \u001b[38;5;241m2\u001b[39m):\n\u001b[1;32m      2\u001b[0m     df\u001b[38;5;241m.\u001b[39mplot(title\u001b[38;5;241m=\u001b[39m\u001b[38;5;124m\"\u001b[39m\u001b[38;5;132;01m{}\u001b[39;00m\u001b[38;5;124m\"\u001b[39m\u001b[38;5;241m.\u001b[39mformat(i))\n",
      "\u001b[0;31mNameError\u001b[0m: name 'final_dfs' is not defined"
     ]
    }
   ],
   "source": [
    "for i, df in enumerate(final_dfs, 2):\n",
    "    df.plot(title=\"{}\".format(i))"
   ]
  }
 ],
 "metadata": {
  "kernelspec": {
   "display_name": "Python 3 (ipykernel)",
   "language": "python",
   "name": "python3"
  },
  "language_info": {
   "codemirror_mode": {
    "name": "ipython",
    "version": 3
   },
   "file_extension": ".py",
   "mimetype": "text/x-python",
   "name": "python",
   "nbconvert_exporter": "python",
   "pygments_lexer": "ipython3",
   "version": "3.8.10"
  },
  "orig_nbformat": 4
 },
 "nbformat": 4,
 "nbformat_minor": 2
}
