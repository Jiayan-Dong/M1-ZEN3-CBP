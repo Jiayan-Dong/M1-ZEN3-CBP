{
 "cells": [
  {
   "cell_type": "code",
   "execution_count": 83,
   "metadata": {},
   "outputs": [],
   "source": [
    "import pandas as pd \n",
    "import matplotlib.pyplot as plt\n",
    "import seaborn as sns"
   ]
  },
  {
   "cell_type": "code",
   "execution_count": 84,
   "metadata": {},
   "outputs": [
    {
     "name": "stdout",
     "output_type": "stream",
     "text": [
      "Experiment date and time: Wed Jun 14 12:12:15 PM PDT 2023\n",
      "Number of Branches: \n",
      "44200573\n",
      "Number of Mispredicted Indirect Branches: \n",
      "573723\n"
     ]
    }
   ],
   "source": [
    "%%sh\n",
    "./run.sh"
   ]
  },
  {
   "cell_type": "code",
   "execution_count": 85,
   "metadata": {},
   "outputs": [],
   "source": [
    "def clean_df(df):\n",
    "    df = df.fillna(-1)\n",
    "    df = df.replace(r'[^0-9]+',-1)\n",
    "    df = df.replace('',-1)\n",
    "    df = df.replace(' ',-1)\n",
    "    df = df.replace('\\n',-1)\n",
    "    return df\n",
    "\n",
    "# reading and normalizing the data\n",
    "data = pd.read_csv(\"results.csv\", delim_whitespace=True)\n",
    "data = clean_df(data)\n",
    "data[\"BrIndir\"] = pd.to_numeric(data[\"BrIndir\"],errors='coerce')\n",
    "data[\"BrMispInd\"] = pd.to_numeric(data[\"BrMispInd\"],errors='coerce')\n",
    "data[\"BrIndir\"] = data[\"BrIndir\"] // 1000\n",
    "data[\"BrMispInd\"] = data[\"BrMispInd\"] / 1000\n",
    "\n",
    "df = pd.DataFrame(data)\n",
    "condensed_df = df.groupby('BrIndir').mean().reset_index()"
   ]
  },
  {
   "cell_type": "code",
   "execution_count": 86,
   "metadata": {},
   "outputs": [
    {
     "data": {
      "text/html": [
       "<div>\n",
       "<style scoped>\n",
       "    .dataframe tbody tr th:only-of-type {\n",
       "        vertical-align: middle;\n",
       "    }\n",
       "\n",
       "    .dataframe tbody tr th {\n",
       "        vertical-align: top;\n",
       "    }\n",
       "\n",
       "    .dataframe thead th {\n",
       "        text-align: right;\n",
       "    }\n",
       "</style>\n",
       "<table border=\"1\" class=\"dataframe\">\n",
       "  <thead>\n",
       "    <tr style=\"text-align: right;\">\n",
       "      <th></th>\n",
       "      <th>BrIndir</th>\n",
       "      <th>Clock</th>\n",
       "      <th>BrRetired</th>\n",
       "      <th>BrMisAll</th>\n",
       "      <th>BrMispInd</th>\n",
       "      <th>BrMispCond</th>\n",
       "    </tr>\n",
       "  </thead>\n",
       "  <tbody>\n",
       "    <tr>\n",
       "      <th>0</th>\n",
       "      <td>1</td>\n",
       "      <td>3395649.25</td>\n",
       "      <td>41000.65</td>\n",
       "      <td>998.00</td>\n",
       "      <td>0.00070</td>\n",
       "      <td>997.30</td>\n",
       "    </tr>\n",
       "    <tr>\n",
       "      <th>1</th>\n",
       "      <td>2</td>\n",
       "      <td>6849885.70</td>\n",
       "      <td>81000.90</td>\n",
       "      <td>1754.70</td>\n",
       "      <td>0.62120</td>\n",
       "      <td>1133.50</td>\n",
       "    </tr>\n",
       "    <tr>\n",
       "      <th>2</th>\n",
       "      <td>3</td>\n",
       "      <td>10749450.65</td>\n",
       "      <td>121001.25</td>\n",
       "      <td>2721.55</td>\n",
       "      <td>1.22780</td>\n",
       "      <td>1493.75</td>\n",
       "    </tr>\n",
       "    <tr>\n",
       "      <th>3</th>\n",
       "      <td>4</td>\n",
       "      <td>15907461.75</td>\n",
       "      <td>161001.85</td>\n",
       "      <td>3795.75</td>\n",
       "      <td>1.78685</td>\n",
       "      <td>2008.90</td>\n",
       "    </tr>\n",
       "    <tr>\n",
       "      <th>4</th>\n",
       "      <td>5</td>\n",
       "      <td>19871244.50</td>\n",
       "      <td>201002.30</td>\n",
       "      <td>6596.90</td>\n",
       "      <td>2.44075</td>\n",
       "      <td>4156.15</td>\n",
       "    </tr>\n",
       "    <tr>\n",
       "      <th>5</th>\n",
       "      <td>6</td>\n",
       "      <td>24094690.50</td>\n",
       "      <td>241002.75</td>\n",
       "      <td>6912.80</td>\n",
       "      <td>3.00820</td>\n",
       "      <td>3904.60</td>\n",
       "    </tr>\n",
       "    <tr>\n",
       "      <th>6</th>\n",
       "      <td>7</td>\n",
       "      <td>29250161.15</td>\n",
       "      <td>281003.25</td>\n",
       "      <td>8754.40</td>\n",
       "      <td>3.34670</td>\n",
       "      <td>5407.70</td>\n",
       "    </tr>\n",
       "    <tr>\n",
       "      <th>7</th>\n",
       "      <td>8</td>\n",
       "      <td>33589486.45</td>\n",
       "      <td>321003.70</td>\n",
       "      <td>8456.85</td>\n",
       "      <td>3.91755</td>\n",
       "      <td>4539.30</td>\n",
       "    </tr>\n",
       "    <tr>\n",
       "      <th>8</th>\n",
       "      <td>9</td>\n",
       "      <td>46376837.10</td>\n",
       "      <td>361005.80</td>\n",
       "      <td>13281.60</td>\n",
       "      <td>5.81490</td>\n",
       "      <td>7466.70</td>\n",
       "    </tr>\n",
       "    <tr>\n",
       "      <th>9</th>\n",
       "      <td>10</td>\n",
       "      <td>55739519.45</td>\n",
       "      <td>401006.20</td>\n",
       "      <td>13612.70</td>\n",
       "      <td>6.52150</td>\n",
       "      <td>7091.20</td>\n",
       "    </tr>\n",
       "  </tbody>\n",
       "</table>\n",
       "</div>"
      ],
      "text/plain": [
       "   BrIndir        Clock  BrRetired  BrMisAll  BrMispInd  BrMispCond\n",
       "0        1   3395649.25   41000.65    998.00    0.00070      997.30\n",
       "1        2   6849885.70   81000.90   1754.70    0.62120     1133.50\n",
       "2        3  10749450.65  121001.25   2721.55    1.22780     1493.75\n",
       "3        4  15907461.75  161001.85   3795.75    1.78685     2008.90\n",
       "4        5  19871244.50  201002.30   6596.90    2.44075     4156.15\n",
       "5        6  24094690.50  241002.75   6912.80    3.00820     3904.60\n",
       "6        7  29250161.15  281003.25   8754.40    3.34670     5407.70\n",
       "7        8  33589486.45  321003.70   8456.85    3.91755     4539.30\n",
       "8        9  46376837.10  361005.80  13281.60    5.81490     7466.70\n",
       "9       10  55739519.45  401006.20  13612.70    6.52150     7091.20"
      ]
     },
     "execution_count": 86,
     "metadata": {},
     "output_type": "execute_result"
    }
   ],
   "source": [
    "condensed_df"
   ]
  },
  {
   "cell_type": "code",
   "execution_count": 87,
   "metadata": {},
   "outputs": [
    {
     "data": {
      "image/png": "[encoded data removed]",
      "text/plain": [
       "<Figure size 1500x300 with 1 Axes>"
      ]
     },
     "metadata": {},
     "output_type": "display_data"
    }
   ],
   "source": [
    "\n",
    "def set_style():\n",
    "    plt.rcParams[\"font.family\"] = \"serif\"\n",
    "    plt.rcParams['pdf.fonttype'] = 42\n",
    "    plt.rcParams['ps.fonttype'] = 42\n",
    "    sns.set(rc={'figure.figsize':(15,3),\"font.size\":10, \"font.family\": \"serif\", \n",
    "                \"axes.titlesize\":10,\"axes.labelsize\": 10, \"ytick.labelsize\":10, \n",
    "                 \"xtick.labelsize\":10 , 'legend.fontsize':10, 'legend.title_fontsize': 10}, style=\"white\")\n",
    "\n",
    "set_style()\n",
    "p = sns.lineplot(data=condensed_df, x=\"BrIndir\", y=\"BrMispInd\", marker=\"o\", color=sns.color_palette(\"Set1\")[2], linewidth=2.5, markersize = 6)\n",
    "p.grid()\n",
    "# p.set_xscale('log', base=2)\n",
    "# p.set(xlim=(0,200))\n",
    "# p.set(ylim=(0,15))\n",
    "\n",
    "# Saving the Seaborn Figure:\n",
    "# plt.savefig('res.pdf', bbox_inches='tight')"
   ]
  }
 ],
 "metadata": {
  "kernelspec": {
   "display_name": "Python 3 (ipykernel)",
   "language": "python",
   "name": "python3"
  },
  "language_info": {
   "codemirror_mode": {
    "name": "ipython",
    "version": 3
   },
   "file_extension": ".py",
   "mimetype": "text/x-python",
   "name": "python",
   "nbconvert_exporter": "python",
   "pygments_lexer": "ipython3",
   "version": "3.10.6"
  },
  "orig_nbformat": 4
 },
 "nbformat": 4,
 "nbformat_minor": 2
}
