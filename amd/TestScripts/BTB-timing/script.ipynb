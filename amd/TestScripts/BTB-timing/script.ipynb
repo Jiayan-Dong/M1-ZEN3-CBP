{
 "cells": [
  {
   "cell_type": "code",
   "execution_count": 1,
   "metadata": {},
   "outputs": [],
   "source": [
    "import pandas as pd \n",
    "import matplotlib.pyplot as plt\n",
    "import seaborn as sns"
   ]
  },
  {
   "cell_type": "code",
   "execution_count": 2,
   "metadata": {},
   "outputs": [
    {
     "name": "stdout",
     "output_type": "stream",
     "text": [
      "Experiment date and time: Wed Apr 26 11:32:40 AM PDT 2023\n",
      "Number of branches: \n",
      "3.63121e+10\n",
      "Number of mispredictions: \n",
      "2.49135e+10\n"
     ]
    }
   ],
   "source": [
    "%%sh\n",
    "./run.sh"
   ]
  },
  {
   "cell_type": "code",
   "execution_count": 3,
   "metadata": {},
   "outputs": [],
   "source": [
    "def clean_df(df):\n",
    "    df = df.fillna(-1)\n",
    "    df = df.replace(r'[^0-9]+',-1)\n",
    "    df = df.replace('',-1)\n",
    "    df = df.replace(' ',-1)\n",
    "    df = df.replace('\\n',-1)\n",
    "    return df"
   ]
  },
  {
   "cell_type": "code",
   "execution_count": 11,
   "metadata": {},
   "outputs": [],
   "source": [
    "data = pd.read_csv(\"results.csv\", delim_whitespace=True) \n",
    "data = clean_df(data)\n",
    "\n",
    "data = data.drop([0])\n",
    "\n",
    "data[\"Clock\"] = pd.to_numeric(data[\"Clock\"],errors='coerce')\n",
    "data[\"BrRetired\"] = pd.to_numeric(data[\"BrRetired\"],errors='coerce')\n",
    "data[\"BrClear\"] = pd.to_numeric(data[\"BrClear\"],errors='coerce')\n",
    "\n",
    "data[\"ICacheMiss\"] = pd.to_numeric(data[\"ICacheMiss\"],errors='coerce')\n",
    "\n",
    "# data[\"Dec-uops\"] = pd.to_numeric(data[\"Dec-uops\"],errors='coerce')\n",
    "# data[\"DSB-uops\"] = pd.to_numeric(data[\"DSB-uops\"],errors='coerce')\n",
    "# data[\"LSD-uops\"] = pd.to_numeric(data[\"LSD-uops\"],errors='coerce')\n",
    "# data[\"Dec-uops\"] = (data[\"Dec-uops\"]) / (data[\"DSB-uops\"])\n",
    "# data[\"LSD-uops\"] = (data[\"LSD-uops\"]) / (data[\"DSB-uops\"])\n",
    "# data[\"DSB-uops\"] = (data[\"DSB-uops\"]) / (data[\"BrRetired\"])\n",
    "\n",
    "\n",
    "data[\"BrRetired\"] = (data[\"BrRetired\"]) // 1000\n",
    "data[\"ICacheMiss\"] = (data[\"ICacheMiss\"]) / (data[\"BrRetired\"]*1000)\n",
    "data[\"Clock\"] = (data[\"Clock\"]) / (data[\"BrRetired\"]*1000)\n",
    "data[\"BrClear\"] = data[\"BrClear\"] / 1000\n",
    "\n",
    "# mode_value = data['BrRetired'].mode()[0]\n",
    "# data['BrRetired'] = data['BrRetired'].apply(lambda x: mode_value if x != mode_value else x)"
   ]
  },
  {
   "cell_type": "code",
   "execution_count": 12,
   "metadata": {},
   "outputs": [
    {
     "data": {
      "text/html": [
       "<div>\n",
       "<style scoped>\n",
       "    .dataframe tbody tr th:only-of-type {\n",
       "        vertical-align: middle;\n",
       "    }\n",
       "\n",
       "    .dataframe tbody tr th {\n",
       "        vertical-align: top;\n",
       "    }\n",
       "\n",
       "    .dataframe thead th {\n",
       "        text-align: right;\n",
       "    }\n",
       "</style>\n",
       "<table border=\"1\" class=\"dataframe\">\n",
       "  <thead>\n",
       "    <tr style=\"text-align: right;\">\n",
       "      <th></th>\n",
       "      <th>Clock</th>\n",
       "      <th>BrRetired</th>\n",
       "      <th>BrClear</th>\n",
       "      <th>ICacheMiss</th>\n",
       "    </tr>\n",
       "  </thead>\n",
       "  <tbody>\n",
       "    <tr>\n",
       "      <th>1</th>\n",
       "      <td>0.647500</td>\n",
       "      <td>2</td>\n",
       "      <td>0.000</td>\n",
       "      <td>0.000000</td>\n",
       "    </tr>\n",
       "    <tr>\n",
       "      <th>2</th>\n",
       "      <td>0.660500</td>\n",
       "      <td>2</td>\n",
       "      <td>0.000</td>\n",
       "      <td>0.000000</td>\n",
       "    </tr>\n",
       "    <tr>\n",
       "      <th>3</th>\n",
       "      <td>0.648500</td>\n",
       "      <td>2</td>\n",
       "      <td>0.000</td>\n",
       "      <td>0.000000</td>\n",
       "    </tr>\n",
       "    <tr>\n",
       "      <th>4</th>\n",
       "      <td>0.651500</td>\n",
       "      <td>2</td>\n",
       "      <td>0.000</td>\n",
       "      <td>0.000000</td>\n",
       "    </tr>\n",
       "    <tr>\n",
       "      <th>5</th>\n",
       "      <td>0.654000</td>\n",
       "      <td>2</td>\n",
       "      <td>0.000</td>\n",
       "      <td>0.000000</td>\n",
       "    </tr>\n",
       "    <tr>\n",
       "      <th>...</th>\n",
       "      <td>...</td>\n",
       "      <td>...</td>\n",
       "      <td>...</td>\n",
       "      <td>...</td>\n",
       "    </tr>\n",
       "    <tr>\n",
       "      <th>6045</th>\n",
       "      <td>5.952200</td>\n",
       "      <td>12002</td>\n",
       "      <td>12002.003</td>\n",
       "      <td>1.445368</td>\n",
       "    </tr>\n",
       "    <tr>\n",
       "      <th>6046</th>\n",
       "      <td>5.949337</td>\n",
       "      <td>12002</td>\n",
       "      <td>12002.001</td>\n",
       "      <td>1.445374</td>\n",
       "    </tr>\n",
       "    <tr>\n",
       "      <th>6047</th>\n",
       "      <td>5.953688</td>\n",
       "      <td>12002</td>\n",
       "      <td>12002.008</td>\n",
       "      <td>1.446089</td>\n",
       "    </tr>\n",
       "    <tr>\n",
       "      <th>6048</th>\n",
       "      <td>5.951203</td>\n",
       "      <td>12002</td>\n",
       "      <td>12002.006</td>\n",
       "      <td>1.445805</td>\n",
       "    </tr>\n",
       "    <tr>\n",
       "      <th>6049</th>\n",
       "      <td>5.949625</td>\n",
       "      <td>12002</td>\n",
       "      <td>12002.004</td>\n",
       "      <td>1.445364</td>\n",
       "    </tr>\n",
       "  </tbody>\n",
       "</table>\n",
       "<p>6049 rows × 4 columns</p>\n",
       "</div>"
      ],
      "text/plain": [
       "         Clock  BrRetired    BrClear  ICacheMiss\n",
       "1     0.647500          2      0.000    0.000000\n",
       "2     0.660500          2      0.000    0.000000\n",
       "3     0.648500          2      0.000    0.000000\n",
       "4     0.651500          2      0.000    0.000000\n",
       "5     0.654000          2      0.000    0.000000\n",
       "...        ...        ...        ...         ...\n",
       "6045  5.952200      12002  12002.003    1.445368\n",
       "6046  5.949337      12002  12002.001    1.445374\n",
       "6047  5.953688      12002  12002.008    1.446089\n",
       "6048  5.951203      12002  12002.006    1.445805\n",
       "6049  5.949625      12002  12002.004    1.445364\n",
       "\n",
       "[6049 rows x 4 columns]"
      ]
     },
     "execution_count": 12,
     "metadata": {},
     "output_type": "execute_result"
    }
   ],
   "source": [
    "data"
   ]
  },
  {
   "cell_type": "code",
   "execution_count": 13,
   "metadata": {},
   "outputs": [
    {
     "data": {
      "image/png": "[encoded data removed]",
      "text/plain": [
       "<Figure size 2000x300 with 1 Axes>"
      ]
     },
     "metadata": {},
     "output_type": "display_data"
    }
   ],
   "source": [
    "\n",
    "def set_style():\n",
    "    plt.rcParams[\"font.family\"] = \"serif\"\n",
    "    plt.rcParams['pdf.fonttype'] = 42\n",
    "    plt.rcParams['ps.fonttype'] = 42\n",
    "    sns.set(rc={'figure.figsize':(20,3),\"font.size\":10, \"font.family\": \"serif\", \n",
    "                \"axes.titlesize\":10,\"axes.labelsize\": 10, \"ytick.labelsize\":10, \n",
    "                 \"xtick.labelsize\":10 , 'legend.fontsize':10, 'legend.title_fontsize': 10}, style=\"white\")\n",
    "\n",
    "set_style()\n",
    "\n",
    "p = sns.lineplot(data=data, x=\"BrRetired\", y=\"ICacheMiss\", marker=\"o\", color=sns.color_palette(\"Set1\")[2], linewidth=2.5, markersize = 0)\n",
    "p.grid()\n",
    "# p.set_xscale('log', base=2)\n",
    "# p.set(xlim=(0,9))\n",
    "# p.set(ylim=(0,3))\n",
    "\n",
    "# Saving the Seaborn Figure:\n",
    "# plt.savefig('res.pdf', bbox_inches='tight')"
   ]
  },
  {
   "cell_type": "code",
   "execution_count": null,
   "metadata": {},
   "outputs": [
    {
     "ename": "KeyError",
     "evalue": "\"Columns not found: 'LSD-uops', 'DSB-uops', 'Dec-uops'\"",
     "output_type": "error",
     "traceback": [
      "\u001b[0;31m---------------------------------------------------------------------------\u001b[0m",
      "\u001b[0;31mKeyError\u001b[0m                                  Traceback (most recent call last)",
      "Cell \u001b[0;32mIn[134], line 5\u001b[0m\n\u001b[1;32m      2\u001b[0m cols \u001b[39m=\u001b[39m [\u001b[39m\"\u001b[39m\u001b[39mLSD-uops\u001b[39m\u001b[39m\"\u001b[39m, \u001b[39m\"\u001b[39m\u001b[39mDSB-uops\u001b[39m\u001b[39m\"\u001b[39m, \u001b[39m\"\u001b[39m\u001b[39mDec-uops\u001b[39m\u001b[39m\"\u001b[39m]\n\u001b[1;32m      4\u001b[0m \u001b[39m# Group the data by \"BrRetired\" and calculate the mean for each group\u001b[39;00m\n\u001b[0;32m----> 5\u001b[0m grouped \u001b[39m=\u001b[39m data\u001b[39m.\u001b[39;49mgroupby(\u001b[39m\"\u001b[39;49m\u001b[39mBrRetired\u001b[39;49m\u001b[39m\"\u001b[39;49m)[cols]\u001b[39m.\u001b[39mmean()\n\u001b[1;32m      7\u001b[0m \u001b[39m# Calculate the total sum for each row\u001b[39;00m\n\u001b[1;32m      8\u001b[0m totals \u001b[39m=\u001b[39m grouped\u001b[39m.\u001b[39msum(axis\u001b[39m=\u001b[39m\u001b[39m1\u001b[39m)\n",
      "File \u001b[0;32m~/.local/lib/python3.10/site-packages/pandas/core/groupby/generic.py:1416\u001b[0m, in \u001b[0;36mDataFrameGroupBy.__getitem__\u001b[0;34m(self, key)\u001b[0m\n\u001b[1;32m   1407\u001b[0m \u001b[39mif\u001b[39;00m \u001b[39misinstance\u001b[39m(key, \u001b[39mtuple\u001b[39m) \u001b[39mand\u001b[39;00m \u001b[39mlen\u001b[39m(key) \u001b[39m>\u001b[39m \u001b[39m1\u001b[39m:\n\u001b[1;32m   1408\u001b[0m     \u001b[39m# if len == 1, then it becomes a SeriesGroupBy and this is actually\u001b[39;00m\n\u001b[1;32m   1409\u001b[0m     \u001b[39m# valid syntax, so don't raise warning\u001b[39;00m\n\u001b[1;32m   1410\u001b[0m     warnings\u001b[39m.\u001b[39mwarn(\n\u001b[1;32m   1411\u001b[0m         \u001b[39m\"\u001b[39m\u001b[39mIndexing with multiple keys (implicitly converted to a tuple \u001b[39m\u001b[39m\"\u001b[39m\n\u001b[1;32m   1412\u001b[0m         \u001b[39m\"\u001b[39m\u001b[39mof keys) will be deprecated, use a list instead.\u001b[39m\u001b[39m\"\u001b[39m,\n\u001b[1;32m   1413\u001b[0m         \u001b[39mFutureWarning\u001b[39;00m,\n\u001b[1;32m   1414\u001b[0m         stacklevel\u001b[39m=\u001b[39mfind_stack_level(),\n\u001b[1;32m   1415\u001b[0m     )\n\u001b[0;32m-> 1416\u001b[0m \u001b[39mreturn\u001b[39;00m \u001b[39msuper\u001b[39;49m()\u001b[39m.\u001b[39;49m\u001b[39m__getitem__\u001b[39;49m(key)\n",
      "File \u001b[0;32m~/.local/lib/python3.10/site-packages/pandas/core/base.py:238\u001b[0m, in \u001b[0;36mSelectionMixin.__getitem__\u001b[0;34m(self, key)\u001b[0m\n\u001b[1;32m    236\u001b[0m     \u001b[39mif\u001b[39;00m \u001b[39mlen\u001b[39m(\u001b[39mself\u001b[39m\u001b[39m.\u001b[39mobj\u001b[39m.\u001b[39mcolumns\u001b[39m.\u001b[39mintersection(key)) \u001b[39m!=\u001b[39m \u001b[39mlen\u001b[39m(\u001b[39mset\u001b[39m(key)):\n\u001b[1;32m    237\u001b[0m         bad_keys \u001b[39m=\u001b[39m \u001b[39mlist\u001b[39m(\u001b[39mset\u001b[39m(key)\u001b[39m.\u001b[39mdifference(\u001b[39mself\u001b[39m\u001b[39m.\u001b[39mobj\u001b[39m.\u001b[39mcolumns))\n\u001b[0;32m--> 238\u001b[0m         \u001b[39mraise\u001b[39;00m \u001b[39mKeyError\u001b[39;00m(\u001b[39mf\u001b[39m\u001b[39m\"\u001b[39m\u001b[39mColumns not found: \u001b[39m\u001b[39m{\u001b[39;00m\u001b[39mstr\u001b[39m(bad_keys)[\u001b[39m1\u001b[39m:\u001b[39m-\u001b[39m\u001b[39m1\u001b[39m]\u001b[39m}\u001b[39;00m\u001b[39m\"\u001b[39m)\n\u001b[1;32m    239\u001b[0m     \u001b[39mreturn\u001b[39;00m \u001b[39mself\u001b[39m\u001b[39m.\u001b[39m_gotitem(\u001b[39mlist\u001b[39m(key), ndim\u001b[39m=\u001b[39m\u001b[39m2\u001b[39m)\n\u001b[1;32m    241\u001b[0m \u001b[39melif\u001b[39;00m \u001b[39mnot\u001b[39;00m \u001b[39mgetattr\u001b[39m(\u001b[39mself\u001b[39m, \u001b[39m\"\u001b[39m\u001b[39mas_index\u001b[39m\u001b[39m\"\u001b[39m, \u001b[39mFalse\u001b[39;00m):\n",
      "\u001b[0;31mKeyError\u001b[0m: \"Columns not found: 'LSD-uops', 'DSB-uops', 'Dec-uops'\""
     ]
    }
   ],
   "source": [
    "# Select the columns to use for the bar plot\n",
    "cols = [\"LSD-uops\", \"DSB-uops\", \"Dec-uops\"]\n",
    "\n",
    "# Group the data by \"BrRetired\" and calculate the mean for each group\n",
    "grouped = data.groupby(\"BrRetired\")[cols].mean()\n",
    "\n",
    "# Calculate the total sum for each row\n",
    "totals = grouped.sum(axis=1)\n",
    "\n",
    "# Calculate the percentage of each data point over the total sum for each row\n",
    "percentages = grouped.div(totals, axis=0)\n",
    "\n",
    "# Reset the index to make \"BrRetired\" a column again\n",
    "percentages = percentages.reset_index()\n",
    "\n",
    "# Melt the dataframe to create a \"long\" format for Seaborn\n",
    "melted = pd.melt(percentages, id_vars=\"BrRetired\", var_name=\"Data\", value_name=\"Percentage\")\n",
    "\n",
    "# Pivot the melted dataframe to create a \"wide\" format for Seaborn\n",
    "pivot = melted.pivot(index=\"BrRetired\", columns=\"Data\", values=\"Percentage\")\n",
    "\n",
    "# Create the bar plot using Seaborn\n",
    "sns.set(rc={'figure.figsize':(15,5)})\n",
    "sns.set_style(\"whitegrid\")\n",
    "sns.set_palette(\"colorblind\")\n",
    "sns.set_context(\"talk\")\n",
    "ax = pivot.plot(kind=\"bar\", stacked=True, width=2)\n",
    "\n",
    "# Set the axis labels and legend\n",
    "ax.legend(title=\"Data\", loc=\"center right\",bbox_to_anchor=(1.25, 0.5), frameon=False)\n",
    "ax.set_xlabel(\"BrRetired\")\n",
    "ax.set_ylabel(\"Percentage\")\n",
    "# ax.set(xlim=(0,512))\n",
    "\n",
    "# Remove the x-tick labels\n",
    "ax.set_xticklabels([])\n",
    "    \n",
    "# Show the plot\n",
    "plt.show()"
   ]
  },
  {
   "cell_type": "code",
   "execution_count": null,
   "metadata": {},
   "outputs": [
    {
     "data": {
      "image/png": "[encoded data removed]",
      "text/plain": [
       "<Figure size 1500x300 with 1 Axes>"
      ]
     },
     "metadata": {},
     "output_type": "display_data"
    }
   ],
   "source": [
    "def set_style():\n",
    "    plt.rcParams[\"font.family\"] = \"serif\"\n",
    "    plt.rcParams['pdf.fonttype'] = 42\n",
    "    plt.rcParams['ps.fonttype'] = 42\n",
    "    sns.set(rc={'figure.figsize':(15,3),\"font.size\":10, \"font.family\": \"serif\", \n",
    "                \"axes.titlesize\":10,\"axes.labelsize\": 10, \"ytick.labelsize\":10, \n",
    "                 \"xtick.labelsize\":10 , 'legend.fontsize':10, 'legend.title_fontsize': 10}, style=\"white\")\n",
    "\n",
    "set_style()\n",
    "\n",
    "g = sns.barplot(data=data, x=\"BrRetired\", y=\"Dec-uops\")"
   ]
  },
  {
   "cell_type": "code",
   "execution_count": null,
   "metadata": {},
   "outputs": [],
   "source": []
  }
 ],
 "metadata": {
  "kernelspec": {
   "display_name": "Python 3 (ipykernel)",
   "language": "python",
   "name": "python3"
  },
  "language_info": {
   "codemirror_mode": {
    "name": "ipython",
    "version": 3
   },
   "file_extension": ".py",
   "mimetype": "text/x-python",
   "name": "python",
   "nbconvert_exporter": "python",
   "pygments_lexer": "ipython3",
   "version": "3.10.6"
  },
  "orig_nbformat": 4
 },
 "nbformat": 4,
 "nbformat_minor": 2
}
